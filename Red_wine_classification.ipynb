{
  "nbformat": 4,
  "nbformat_minor": 0,
  "metadata": {
    "colab": {
      "name": "Red wine classification",
      "provenance": [],
      "collapsed_sections": []
    },
    "kernelspec": {
      "name": "python3",
      "display_name": "Python 3"
    }
  },
  "cells": [
    {
      "cell_type": "markdown",
      "metadata": {
        "id": "nYFffGAL06Ev",
        "colab_type": "text"
      },
      "source": [
        "## **_Importing Libraries_**"
      ]
    },
    {
      "cell_type": "code",
      "metadata": {
        "id": "1ARK1f2Bx9z1",
        "colab_type": "code",
        "colab": {}
      },
      "source": [
        "import numpy as np\n",
        "import pandas as pd\n",
        "import matplotlib.pyplot as plt"
      ],
      "execution_count": null,
      "outputs": []
    },
    {
      "cell_type": "code",
      "metadata": {
        "id": "0PAQ_qBhyrn3",
        "colab_type": "code",
        "colab": {}
      },
      "source": [
        "dataset = pd.read_csv('/content/datasets_4458_8204_winequality-red.csv')"
      ],
      "execution_count": null,
      "outputs": []
    },
    {
      "cell_type": "code",
      "metadata": {
        "id": "saiFvxpqyxmo",
        "colab_type": "code",
        "colab": {
          "base_uri": "https://localhost:8080/",
          "height": 34
        },
        "outputId": "bf90347b-7889-468f-ccea-32bf3f6fda8f"
      },
      "source": [
        "dataset['quality'].unique()"
      ],
      "execution_count": null,
      "outputs": [
        {
          "output_type": "execute_result",
          "data": {
            "text/plain": [
              "array([5, 6, 7, 4, 8, 3])"
            ]
          },
          "metadata": {
            "tags": []
          },
          "execution_count": 4
        }
      ]
    },
    {
      "cell_type": "markdown",
      "metadata": {
        "id": "hqCpsoiw0-yd",
        "colab_type": "text"
      },
      "source": [
        "## **_Importing dataset_**"
      ]
    },
    {
      "cell_type": "code",
      "metadata": {
        "id": "xUhlUx1wy5GD",
        "colab_type": "code",
        "colab": {}
      },
      "source": [
        "x = dataset.iloc[: ,1:-1].values\n",
        "y = dataset.iloc[:, -1].values"
      ],
      "execution_count": null,
      "outputs": []
    },
    {
      "cell_type": "markdown",
      "metadata": {
        "id": "kyEfWRHi2Dhi",
        "colab_type": "text"
      },
      "source": [
        "## **_Split to Train and Test Data_**"
      ]
    },
    {
      "cell_type": "code",
      "metadata": {
        "id": "LjKL1rpcy7_F",
        "colab_type": "code",
        "colab": {}
      },
      "source": [
        "from sklearn.model_selection import train_test_split\n",
        "x_train, x_test, y_train, y_test = train_test_split(x, y, test_size=0.20)"
      ],
      "execution_count": null,
      "outputs": []
    },
    {
      "cell_type": "markdown",
      "metadata": {
        "id": "9geH7UjG2I__",
        "colab_type": "text"
      },
      "source": [
        "## **_Standardising Data_**"
      ]
    },
    {
      "cell_type": "code",
      "metadata": {
        "id": "S1r-7LSXy9ZU",
        "colab_type": "code",
        "colab": {}
      },
      "source": [
        "from sklearn.preprocessing import StandardScaler\n",
        "sc = StandardScaler()\n",
        "x_train = sc.fit_transform(x_train)\n",
        "x_test = sc.transform(x_test)"
      ],
      "execution_count": null,
      "outputs": []
    },
    {
      "cell_type": "markdown",
      "metadata": {
        "id": "gJUQcVhc2XYC",
        "colab_type": "text"
      },
      "source": [
        "## **_Train on Different Algorithms_**\n",
        "\n",
        "We totally trained on 5 algorithms:\n",
        "\n",
        "* LogisticRegression class we have used linear_model library.\n",
        "* KNeighborsClassifier class we have used neighbors library.\n",
        "* DecisionTreeClassifier class we have used tree library.\n",
        "* RandomForestClassifier class we have used ensemble library.\n",
        "* SVC class we have used svm library."
      ]
    },
    {
      "cell_type": "code",
      "metadata": {
        "id": "C0iav11hy_3M",
        "colab_type": "code",
        "colab": {}
      },
      "source": [
        "from sklearn.linear_model import LogisticRegression\n",
        "from sklearn.neighbors import KNeighborsClassifier\n",
        "from sklearn.tree import DecisionTreeClassifier\n",
        "from sklearn.ensemble import RandomForestClassifier\n",
        "from sklearn.svm import SVC"
      ],
      "execution_count": null,
      "outputs": []
    },
    {
      "cell_type": "code",
      "metadata": {
        "id": "lTuDISNSzCf2",
        "colab_type": "code",
        "colab": {}
      },
      "source": [
        "l_cla = LogisticRegression()\n",
        "k_cla = KNeighborsClassifier()\n",
        "d_cla = DecisionTreeClassifier()\n",
        "r_cla = RandomForestClassifier()\n",
        "s_cla = SVC(kernel = 'linear')\n",
        "ks_cla = SVC(kernel = 'rbf')"
      ],
      "execution_count": null,
      "outputs": []
    },
    {
      "cell_type": "code",
      "metadata": {
        "id": "xS8_YcspzGit",
        "colab_type": "code",
        "colab": {
          "base_uri": "https://localhost:8080/",
          "height": 85
        },
        "outputId": "18036924-837f-431f-9ac0-1255c98f764f"
      },
      "source": [
        "l_cla.fit(x_train, y_train)\n",
        "k_cla.fit(x_train, y_train)\n",
        "d_cla.fit(x_train, y_train)\n",
        "r_cla.fit(x_train, y_train)\n",
        "s_cla.fit(x_train, y_train)\n",
        "ks_cla.fit(x_train, y_train)"
      ],
      "execution_count": null,
      "outputs": [
        {
          "output_type": "execute_result",
          "data": {
            "text/plain": [
              "SVC(C=1.0, break_ties=False, cache_size=200, class_weight=None, coef0=0.0,\n",
              "    decision_function_shape='ovr', degree=3, gamma='scale', kernel='rbf',\n",
              "    max_iter=-1, probability=False, random_state=None, shrinking=True,\n",
              "    tol=0.001, verbose=False)"
            ]
          },
          "metadata": {
            "tags": []
          },
          "execution_count": 10
        }
      ]
    },
    {
      "cell_type": "code",
      "metadata": {
        "id": "szD58_pJzJhu",
        "colab_type": "code",
        "colab": {}
      },
      "source": [
        "l_pred = l_cla.predict(x_test)\n",
        "k_pred = k_cla.predict(x_test)\n",
        "d_pred = d_cla.predict(x_test)\n",
        "r_pred = r_cla.predict(x_test)\n",
        "s_pred = s_cla.predict(x_test)\n",
        "ks_pred = ks_cla.predict(x_test)"
      ],
      "execution_count": null,
      "outputs": []
    },
    {
      "cell_type": "markdown",
      "metadata": {
        "id": "fWt-1lCL25Gd",
        "colab_type": "text"
      },
      "source": [
        "## **_Confusion matrix_**"
      ]
    },
    {
      "cell_type": "code",
      "metadata": {
        "id": "euDSEaM2zMmF",
        "colab_type": "code",
        "colab": {}
      },
      "source": [
        "from sklearn.metrics import confusion_matrix"
      ],
      "execution_count": null,
      "outputs": []
    },
    {
      "cell_type": "code",
      "metadata": {
        "id": "wwMUW6huzQ5N",
        "colab_type": "code",
        "colab": {}
      },
      "source": [
        "l_c = confusion_matrix(y_test, l_pred)\n",
        "k_c = confusion_matrix(y_test, k_pred)\n",
        "d_c = confusion_matrix(y_test, d_pred)\n",
        "r_c = confusion_matrix(y_test, r_pred)\n",
        "s_c = confusion_matrix(y_test, s_pred)\n",
        "ks_c = confusion_matrix(y_test, ks_pred)"
      ],
      "execution_count": null,
      "outputs": []
    },
    {
      "cell_type": "code",
      "metadata": {
        "id": "WSsy4HfjzSg0",
        "colab_type": "code",
        "colab": {
          "base_uri": "https://localhost:8080/",
          "height": 119
        },
        "outputId": "513e15fb-ec1a-4c5e-c52b-4dada271d503"
      },
      "source": [
        "l_c"
      ],
      "execution_count": null,
      "outputs": [
        {
          "output_type": "execute_result",
          "data": {
            "text/plain": [
              "array([[ 1,  0,  1,  0,  0,  0],\n",
              "       [ 0,  0,  5,  2,  1,  0],\n",
              "       [ 0,  0, 95, 36,  0,  0],\n",
              "       [ 0,  0, 46, 76, 10,  0],\n",
              "       [ 0,  0,  1, 30, 13,  0],\n",
              "       [ 0,  0,  0,  2,  1,  0]])"
            ]
          },
          "metadata": {
            "tags": []
          },
          "execution_count": 14
        }
      ]
    },
    {
      "cell_type": "code",
      "metadata": {
        "id": "al7kp44zzVUF",
        "colab_type": "code",
        "colab": {
          "base_uri": "https://localhost:8080/",
          "height": 119
        },
        "outputId": "152cb479-8ce4-4b9e-f092-c2b8328aa483"
      },
      "source": [
        "k_c"
      ],
      "execution_count": null,
      "outputs": [
        {
          "output_type": "execute_result",
          "data": {
            "text/plain": [
              "array([[ 0,  1,  1,  0,  0,  0],\n",
              "       [ 0,  0,  3,  4,  1,  0],\n",
              "       [ 0,  1, 90, 39,  1,  0],\n",
              "       [ 0,  1, 45, 74, 12,  0],\n",
              "       [ 0,  0,  8, 20, 16,  0],\n",
              "       [ 0,  0,  1,  2,  0,  0]])"
            ]
          },
          "metadata": {
            "tags": []
          },
          "execution_count": 15
        }
      ]
    },
    {
      "cell_type": "code",
      "metadata": {
        "id": "raWnu6FMzXpd",
        "colab_type": "code",
        "colab": {
          "base_uri": "https://localhost:8080/",
          "height": 119
        },
        "outputId": "29232f2e-1806-44d8-b437-91f24b280c1c"
      },
      "source": [
        "d_c"
      ],
      "execution_count": null,
      "outputs": [
        {
          "output_type": "execute_result",
          "data": {
            "text/plain": [
              "array([[ 0,  2,  0,  0,  0,  0],\n",
              "       [ 0,  1,  4,  2,  1,  0],\n",
              "       [ 2,  4, 94, 27,  4,  0],\n",
              "       [ 0,  3, 39, 75, 12,  3],\n",
              "       [ 0,  0,  5, 14, 24,  1],\n",
              "       [ 0,  0,  0,  2,  1,  0]])"
            ]
          },
          "metadata": {
            "tags": []
          },
          "execution_count": 16
        }
      ]
    },
    {
      "cell_type": "code",
      "metadata": {
        "id": "tgPK2Ibgzah2",
        "colab_type": "code",
        "colab": {
          "base_uri": "https://localhost:8080/",
          "height": 119
        },
        "outputId": "09d1dc99-4caa-4315-adae-38c43f4d3c78"
      },
      "source": [
        "r_c"
      ],
      "execution_count": null,
      "outputs": [
        {
          "output_type": "execute_result",
          "data": {
            "text/plain": [
              "array([[  0,   1,   1,   0,   0,   0],\n",
              "       [  0,   0,   5,   3,   0,   0],\n",
              "       [  0,   0, 105,  24,   2,   0],\n",
              "       [  0,   0,  29,  93,  10,   0],\n",
              "       [  0,   0,   1,  22,  21,   0],\n",
              "       [  0,   0,   0,   1,   2,   0]])"
            ]
          },
          "metadata": {
            "tags": []
          },
          "execution_count": 17
        }
      ]
    },
    {
      "cell_type": "code",
      "metadata": {
        "id": "8jUjFo0rzdaF",
        "colab_type": "code",
        "colab": {
          "base_uri": "https://localhost:8080/",
          "height": 119
        },
        "outputId": "5500cab9-2781-44f6-b6c1-2152ea5e43dc"
      },
      "source": [
        "s_c"
      ],
      "execution_count": null,
      "outputs": [
        {
          "output_type": "execute_result",
          "data": {
            "text/plain": [
              "array([[ 0,  0,  2,  0,  0,  0],\n",
              "       [ 0,  0,  5,  3,  0,  0],\n",
              "       [ 0,  0, 98, 33,  0,  0],\n",
              "       [ 0,  0, 47, 85,  0,  0],\n",
              "       [ 0,  0,  2, 42,  0,  0],\n",
              "       [ 0,  0,  0,  3,  0,  0]])"
            ]
          },
          "metadata": {
            "tags": []
          },
          "execution_count": 18
        }
      ]
    },
    {
      "cell_type": "code",
      "metadata": {
        "id": "BnAVLdLxzhEn",
        "colab_type": "code",
        "colab": {
          "base_uri": "https://localhost:8080/",
          "height": 119
        },
        "outputId": "88c402aa-efd6-4f6e-bdc8-484453fafd20"
      },
      "source": [
        "ks_c"
      ],
      "execution_count": null,
      "outputs": [
        {
          "output_type": "execute_result",
          "data": {
            "text/plain": [
              "array([[  0,   0,   2,   0,   0,   0],\n",
              "       [  0,   0,   3,   4,   1,   0],\n",
              "       [  0,   0, 100,  30,   1,   0],\n",
              "       [  0,   0,  50,  78,   4,   0],\n",
              "       [  0,   0,   4,  25,  15,   0],\n",
              "       [  0,   0,   0,   2,   1,   0]])"
            ]
          },
          "metadata": {
            "tags": []
          },
          "execution_count": 19
        }
      ]
    },
    {
      "cell_type": "markdown",
      "metadata": {
        "id": "71b8n1UC3AOf",
        "colab_type": "text"
      },
      "source": [
        "## **_Result_**"
      ]
    },
    {
      "cell_type": "code",
      "metadata": {
        "id": "4JeVpqlLzl9x",
        "colab_type": "code",
        "colab": {}
      },
      "source": [
        "from sklearn.metrics import accuracy_score"
      ],
      "execution_count": null,
      "outputs": []
    },
    {
      "cell_type": "code",
      "metadata": {
        "id": "VGs6QTAEzold",
        "colab_type": "code",
        "colab": {}
      },
      "source": [
        "l_a = accuracy_score(y_test, l_pred)\n",
        "k_a = accuracy_score(y_test, k_pred)\n",
        "d_a = accuracy_score(y_test, d_pred)\n",
        "r_a = accuracy_score(y_test, r_pred)\n",
        "s_a = accuracy_score(y_test, s_pred)\n",
        "ks_a = accuracy_score(y_test, ks_pred)"
      ],
      "execution_count": null,
      "outputs": []
    },
    {
      "cell_type": "code",
      "metadata": {
        "id": "xY7f4hXczroq",
        "colab_type": "code",
        "colab": {
          "base_uri": "https://localhost:8080/",
          "height": 102
        },
        "outputId": "db6ceb81-599c-42a7-a9ba-1aa56926dbc4"
      },
      "source": [
        "print('Logistic Regression: ' + str(k_a) + '\\nDecision Tree: ' + str(d_a) + '\\nRandom Forest: ' + str(r_a) + '\\nLinear SVC: ' + str(s_a) + '\\nKernel SVC: ' + str(l_a))"
      ],
      "execution_count": null,
      "outputs": [
        {
          "output_type": "stream",
          "text": [
            "Logistic Regression: 0.5625\n",
            "Decision Tree: 0.60625\n",
            "Random Forest: 0.684375\n",
            "Linear SVC: 0.571875\n",
            "Kernel SVC: 0.578125\n"
          ],
          "name": "stdout"
        }
      ]
    },
    {
      "cell_type": "markdown",
      "metadata": {
        "id": "FboQPZVs3EWU",
        "colab_type": "text"
      },
      "source": [
        "## **_Conclusion_**\n",
        "\n",
        "used Classification:\n",
        "\n",
        "* Since RandomForest is giving more efficiency than other algorithms.\n",
        "* We can consider RandomForest as the best algorithm for this dataset."
      ]
    }
  ]
}